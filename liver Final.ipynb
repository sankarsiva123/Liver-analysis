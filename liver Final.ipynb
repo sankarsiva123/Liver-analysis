{
 "cells": [
  {
   "cell_type": "code",
   "execution_count": 152,
   "metadata": {},
   "outputs": [],
   "source": [
    "import numpy as np\n",
    "import pandas as pd\n",
    "import matplotlib.pyplot as plt\n",
    "import seaborn as sns\n",
    "import warnings\n",
    "warnings.simplefilter(action='ignore')"
   ]
  },
  {
   "cell_type": "code",
   "execution_count": 40,
   "metadata": {},
   "outputs": [],
   "source": [
    "df2=pd.read_csv('indian_liver.csv')"
   ]
  },
  {
   "cell_type": "code",
   "execution_count": 41,
   "metadata": {},
   "outputs": [
    {
     "data": {
      "text/html": [
       "<div>\n",
       "<style scoped>\n",
       "    .dataframe tbody tr th:only-of-type {\n",
       "        vertical-align: middle;\n",
       "    }\n",
       "\n",
       "    .dataframe tbody tr th {\n",
       "        vertical-align: top;\n",
       "    }\n",
       "\n",
       "    .dataframe thead th {\n",
       "        text-align: right;\n",
       "    }\n",
       "</style>\n",
       "<table border=\"1\" class=\"dataframe\">\n",
       "  <thead>\n",
       "    <tr style=\"text-align: right;\">\n",
       "      <th></th>\n",
       "      <th>age</th>\n",
       "      <th>gender</th>\n",
       "      <th>TB</th>\n",
       "      <th>DB</th>\n",
       "      <th>alkphos</th>\n",
       "      <th>sgpt</th>\n",
       "      <th>sgot</th>\n",
       "      <th>TP</th>\n",
       "      <th>ALB</th>\n",
       "      <th>A_G</th>\n",
       "      <th>class</th>\n",
       "    </tr>\n",
       "  </thead>\n",
       "  <tbody>\n",
       "    <tr>\n",
       "      <th>0</th>\n",
       "      <td>65</td>\n",
       "      <td>Female</td>\n",
       "      <td>0.7</td>\n",
       "      <td>0.1</td>\n",
       "      <td>187.0</td>\n",
       "      <td>16.0</td>\n",
       "      <td>18.0</td>\n",
       "      <td>6.8</td>\n",
       "      <td>3.3</td>\n",
       "      <td>0.90</td>\n",
       "      <td>1.0</td>\n",
       "    </tr>\n",
       "    <tr>\n",
       "      <th>1</th>\n",
       "      <td>62</td>\n",
       "      <td>Male</td>\n",
       "      <td>10.9</td>\n",
       "      <td>5.5</td>\n",
       "      <td>699.0</td>\n",
       "      <td>64.0</td>\n",
       "      <td>100.0</td>\n",
       "      <td>7.5</td>\n",
       "      <td>3.2</td>\n",
       "      <td>0.74</td>\n",
       "      <td>1.0</td>\n",
       "    </tr>\n",
       "    <tr>\n",
       "      <th>2</th>\n",
       "      <td>62</td>\n",
       "      <td>Male</td>\n",
       "      <td>7.3</td>\n",
       "      <td>4.1</td>\n",
       "      <td>490.0</td>\n",
       "      <td>60.0</td>\n",
       "      <td>68.0</td>\n",
       "      <td>7.0</td>\n",
       "      <td>3.3</td>\n",
       "      <td>0.89</td>\n",
       "      <td>1.0</td>\n",
       "    </tr>\n",
       "    <tr>\n",
       "      <th>3</th>\n",
       "      <td>58</td>\n",
       "      <td>Male</td>\n",
       "      <td>1.0</td>\n",
       "      <td>0.4</td>\n",
       "      <td>182.0</td>\n",
       "      <td>14.0</td>\n",
       "      <td>20.0</td>\n",
       "      <td>6.8</td>\n",
       "      <td>3.4</td>\n",
       "      <td>1.00</td>\n",
       "      <td>1.0</td>\n",
       "    </tr>\n",
       "    <tr>\n",
       "      <th>4</th>\n",
       "      <td>72</td>\n",
       "      <td>Male</td>\n",
       "      <td>3.9</td>\n",
       "      <td>2.0</td>\n",
       "      <td>195.0</td>\n",
       "      <td>27.0</td>\n",
       "      <td>59.0</td>\n",
       "      <td>7.3</td>\n",
       "      <td>2.4</td>\n",
       "      <td>0.40</td>\n",
       "      <td>1.0</td>\n",
       "    </tr>\n",
       "  </tbody>\n",
       "</table>\n",
       "</div>"
      ],
      "text/plain": [
       "   age  gender    TB   DB  alkphos  sgpt   sgot   TP  ALB   A_G  class\n",
       "0   65  Female   0.7  0.1    187.0  16.0   18.0  6.8  3.3  0.90    1.0\n",
       "1   62    Male  10.9  5.5    699.0  64.0  100.0  7.5  3.2  0.74    1.0\n",
       "2   62    Male   7.3  4.1    490.0  60.0   68.0  7.0  3.3  0.89    1.0\n",
       "3   58    Male   1.0  0.4    182.0  14.0   20.0  6.8  3.4  1.00    1.0\n",
       "4   72    Male   3.9  2.0    195.0  27.0   59.0  7.3  2.4  0.40    1.0"
      ]
     },
     "execution_count": 41,
     "metadata": {},
     "output_type": "execute_result"
    }
   ],
   "source": [
    "df2.head()"
   ]
  },
  {
   "cell_type": "code",
   "execution_count": 42,
   "metadata": {},
   "outputs": [],
   "source": [
    "from sklearn.preprocessing import LabelEncoder"
   ]
  },
  {
   "cell_type": "code",
   "execution_count": 47,
   "metadata": {},
   "outputs": [],
   "source": [
    "lb=LabelEncoder()\n",
    "df2['gender']=lb.fit_transform(df2['gender'])"
   ]
  },
  {
   "cell_type": "code",
   "execution_count": 48,
   "metadata": {},
   "outputs": [
    {
     "data": {
      "text/html": [
       "<div>\n",
       "<style scoped>\n",
       "    .dataframe tbody tr th:only-of-type {\n",
       "        vertical-align: middle;\n",
       "    }\n",
       "\n",
       "    .dataframe tbody tr th {\n",
       "        vertical-align: top;\n",
       "    }\n",
       "\n",
       "    .dataframe thead th {\n",
       "        text-align: right;\n",
       "    }\n",
       "</style>\n",
       "<table border=\"1\" class=\"dataframe\">\n",
       "  <thead>\n",
       "    <tr style=\"text-align: right;\">\n",
       "      <th></th>\n",
       "      <th>age</th>\n",
       "      <th>gender</th>\n",
       "      <th>TB</th>\n",
       "      <th>DB</th>\n",
       "      <th>alkphos</th>\n",
       "      <th>sgpt</th>\n",
       "      <th>sgot</th>\n",
       "      <th>TP</th>\n",
       "      <th>ALB</th>\n",
       "      <th>A_G</th>\n",
       "      <th>class</th>\n",
       "    </tr>\n",
       "  </thead>\n",
       "  <tbody>\n",
       "    <tr>\n",
       "      <th>0</th>\n",
       "      <td>65</td>\n",
       "      <td>0</td>\n",
       "      <td>0.7</td>\n",
       "      <td>0.1</td>\n",
       "      <td>187.0</td>\n",
       "      <td>16.0</td>\n",
       "      <td>18.0</td>\n",
       "      <td>6.8</td>\n",
       "      <td>3.3</td>\n",
       "      <td>0.90</td>\n",
       "      <td>1.0</td>\n",
       "    </tr>\n",
       "    <tr>\n",
       "      <th>1</th>\n",
       "      <td>62</td>\n",
       "      <td>1</td>\n",
       "      <td>10.9</td>\n",
       "      <td>5.5</td>\n",
       "      <td>699.0</td>\n",
       "      <td>64.0</td>\n",
       "      <td>100.0</td>\n",
       "      <td>7.5</td>\n",
       "      <td>3.2</td>\n",
       "      <td>0.74</td>\n",
       "      <td>1.0</td>\n",
       "    </tr>\n",
       "    <tr>\n",
       "      <th>2</th>\n",
       "      <td>62</td>\n",
       "      <td>1</td>\n",
       "      <td>7.3</td>\n",
       "      <td>4.1</td>\n",
       "      <td>490.0</td>\n",
       "      <td>60.0</td>\n",
       "      <td>68.0</td>\n",
       "      <td>7.0</td>\n",
       "      <td>3.3</td>\n",
       "      <td>0.89</td>\n",
       "      <td>1.0</td>\n",
       "    </tr>\n",
       "    <tr>\n",
       "      <th>3</th>\n",
       "      <td>58</td>\n",
       "      <td>1</td>\n",
       "      <td>1.0</td>\n",
       "      <td>0.4</td>\n",
       "      <td>182.0</td>\n",
       "      <td>14.0</td>\n",
       "      <td>20.0</td>\n",
       "      <td>6.8</td>\n",
       "      <td>3.4</td>\n",
       "      <td>1.00</td>\n",
       "      <td>1.0</td>\n",
       "    </tr>\n",
       "    <tr>\n",
       "      <th>4</th>\n",
       "      <td>72</td>\n",
       "      <td>1</td>\n",
       "      <td>3.9</td>\n",
       "      <td>2.0</td>\n",
       "      <td>195.0</td>\n",
       "      <td>27.0</td>\n",
       "      <td>59.0</td>\n",
       "      <td>7.3</td>\n",
       "      <td>2.4</td>\n",
       "      <td>0.40</td>\n",
       "      <td>1.0</td>\n",
       "    </tr>\n",
       "  </tbody>\n",
       "</table>\n",
       "</div>"
      ],
      "text/plain": [
       "   age  gender    TB   DB  alkphos  sgpt   sgot   TP  ALB   A_G  class\n",
       "0   65       0   0.7  0.1    187.0  16.0   18.0  6.8  3.3  0.90    1.0\n",
       "1   62       1  10.9  5.5    699.0  64.0  100.0  7.5  3.2  0.74    1.0\n",
       "2   62       1   7.3  4.1    490.0  60.0   68.0  7.0  3.3  0.89    1.0\n",
       "3   58       1   1.0  0.4    182.0  14.0   20.0  6.8  3.4  1.00    1.0\n",
       "4   72       1   3.9  2.0    195.0  27.0   59.0  7.3  2.4  0.40    1.0"
      ]
     },
     "execution_count": 48,
     "metadata": {},
     "output_type": "execute_result"
    }
   ],
   "source": [
    "df2.head()"
   ]
  },
  {
   "cell_type": "code",
   "execution_count": 49,
   "metadata": {},
   "outputs": [
    {
     "data": {
      "text/html": [
       "<div>\n",
       "<style scoped>\n",
       "    .dataframe tbody tr th:only-of-type {\n",
       "        vertical-align: middle;\n",
       "    }\n",
       "\n",
       "    .dataframe tbody tr th {\n",
       "        vertical-align: top;\n",
       "    }\n",
       "\n",
       "    .dataframe thead th {\n",
       "        text-align: right;\n",
       "    }\n",
       "</style>\n",
       "<table border=\"1\" class=\"dataframe\">\n",
       "  <thead>\n",
       "    <tr style=\"text-align: right;\">\n",
       "      <th></th>\n",
       "      <th>age</th>\n",
       "      <th>gender</th>\n",
       "      <th>TB</th>\n",
       "      <th>DB</th>\n",
       "      <th>alkphos</th>\n",
       "      <th>sgpt</th>\n",
       "      <th>sgot</th>\n",
       "      <th>TP</th>\n",
       "      <th>ALB</th>\n",
       "      <th>A_G</th>\n",
       "      <th>class</th>\n",
       "    </tr>\n",
       "  </thead>\n",
       "  <tbody>\n",
       "    <tr>\n",
       "      <th>age</th>\n",
       "      <td>1.000000</td>\n",
       "      <td>0.056560</td>\n",
       "      <td>0.011763</td>\n",
       "      <td>0.007529</td>\n",
       "      <td>0.080425</td>\n",
       "      <td>-0.086883</td>\n",
       "      <td>-0.019910</td>\n",
       "      <td>-0.187461</td>\n",
       "      <td>-0.265924</td>\n",
       "      <td>0.026948</td>\n",
       "      <td>-0.137351</td>\n",
       "    </tr>\n",
       "    <tr>\n",
       "      <th>gender</th>\n",
       "      <td>0.056560</td>\n",
       "      <td>1.000000</td>\n",
       "      <td>0.089291</td>\n",
       "      <td>0.100436</td>\n",
       "      <td>-0.027496</td>\n",
       "      <td>0.082332</td>\n",
       "      <td>0.080336</td>\n",
       "      <td>-0.089121</td>\n",
       "      <td>-0.093799</td>\n",
       "      <td>0.049655</td>\n",
       "      <td>-0.082416</td>\n",
       "    </tr>\n",
       "    <tr>\n",
       "      <th>TB</th>\n",
       "      <td>0.011763</td>\n",
       "      <td>0.089291</td>\n",
       "      <td>1.000000</td>\n",
       "      <td>0.874618</td>\n",
       "      <td>0.206669</td>\n",
       "      <td>0.214065</td>\n",
       "      <td>0.237831</td>\n",
       "      <td>-0.008099</td>\n",
       "      <td>-0.222250</td>\n",
       "      <td>0.032129</td>\n",
       "      <td>-0.220208</td>\n",
       "    </tr>\n",
       "    <tr>\n",
       "      <th>DB</th>\n",
       "      <td>0.007529</td>\n",
       "      <td>0.100436</td>\n",
       "      <td>0.874618</td>\n",
       "      <td>1.000000</td>\n",
       "      <td>0.234939</td>\n",
       "      <td>0.233894</td>\n",
       "      <td>0.257544</td>\n",
       "      <td>-0.000139</td>\n",
       "      <td>-0.228531</td>\n",
       "      <td>0.034385</td>\n",
       "      <td>-0.246046</td>\n",
       "    </tr>\n",
       "    <tr>\n",
       "      <th>alkphos</th>\n",
       "      <td>0.080425</td>\n",
       "      <td>-0.027496</td>\n",
       "      <td>0.206669</td>\n",
       "      <td>0.234939</td>\n",
       "      <td>1.000000</td>\n",
       "      <td>0.125680</td>\n",
       "      <td>0.167196</td>\n",
       "      <td>-0.028514</td>\n",
       "      <td>-0.165453</td>\n",
       "      <td>0.039139</td>\n",
       "      <td>-0.184866</td>\n",
       "    </tr>\n",
       "    <tr>\n",
       "      <th>sgpt</th>\n",
       "      <td>-0.086883</td>\n",
       "      <td>0.082332</td>\n",
       "      <td>0.214065</td>\n",
       "      <td>0.233894</td>\n",
       "      <td>0.125680</td>\n",
       "      <td>1.000000</td>\n",
       "      <td>0.791966</td>\n",
       "      <td>-0.042518</td>\n",
       "      <td>-0.029742</td>\n",
       "      <td>0.027201</td>\n",
       "      <td>-0.163416</td>\n",
       "    </tr>\n",
       "    <tr>\n",
       "      <th>sgot</th>\n",
       "      <td>-0.019910</td>\n",
       "      <td>0.080336</td>\n",
       "      <td>0.237831</td>\n",
       "      <td>0.257544</td>\n",
       "      <td>0.167196</td>\n",
       "      <td>0.791966</td>\n",
       "      <td>1.000000</td>\n",
       "      <td>-0.025645</td>\n",
       "      <td>-0.085290</td>\n",
       "      <td>0.020991</td>\n",
       "      <td>-0.151934</td>\n",
       "    </tr>\n",
       "    <tr>\n",
       "      <th>TP</th>\n",
       "      <td>-0.187461</td>\n",
       "      <td>-0.089121</td>\n",
       "      <td>-0.008099</td>\n",
       "      <td>-0.000139</td>\n",
       "      <td>-0.028514</td>\n",
       "      <td>-0.042518</td>\n",
       "      <td>-0.025645</td>\n",
       "      <td>1.000000</td>\n",
       "      <td>0.784053</td>\n",
       "      <td>-0.016607</td>\n",
       "      <td>0.035008</td>\n",
       "    </tr>\n",
       "    <tr>\n",
       "      <th>ALB</th>\n",
       "      <td>-0.265924</td>\n",
       "      <td>-0.093799</td>\n",
       "      <td>-0.222250</td>\n",
       "      <td>-0.228531</td>\n",
       "      <td>-0.165453</td>\n",
       "      <td>-0.029742</td>\n",
       "      <td>-0.085290</td>\n",
       "      <td>0.784053</td>\n",
       "      <td>1.000000</td>\n",
       "      <td>-0.050497</td>\n",
       "      <td>0.161388</td>\n",
       "    </tr>\n",
       "    <tr>\n",
       "      <th>A_G</th>\n",
       "      <td>0.026948</td>\n",
       "      <td>0.049655</td>\n",
       "      <td>0.032129</td>\n",
       "      <td>0.034385</td>\n",
       "      <td>0.039139</td>\n",
       "      <td>0.027201</td>\n",
       "      <td>0.020991</td>\n",
       "      <td>-0.016607</td>\n",
       "      <td>-0.050497</td>\n",
       "      <td>1.000000</td>\n",
       "      <td>-0.039254</td>\n",
       "    </tr>\n",
       "    <tr>\n",
       "      <th>class</th>\n",
       "      <td>-0.137351</td>\n",
       "      <td>-0.082416</td>\n",
       "      <td>-0.220208</td>\n",
       "      <td>-0.246046</td>\n",
       "      <td>-0.184866</td>\n",
       "      <td>-0.163416</td>\n",
       "      <td>-0.151934</td>\n",
       "      <td>0.035008</td>\n",
       "      <td>0.161388</td>\n",
       "      <td>-0.039254</td>\n",
       "      <td>1.000000</td>\n",
       "    </tr>\n",
       "  </tbody>\n",
       "</table>\n",
       "</div>"
      ],
      "text/plain": [
       "              age    gender        TB        DB   alkphos      sgpt      sgot  \\\n",
       "age      1.000000  0.056560  0.011763  0.007529  0.080425 -0.086883 -0.019910   \n",
       "gender   0.056560  1.000000  0.089291  0.100436 -0.027496  0.082332  0.080336   \n",
       "TB       0.011763  0.089291  1.000000  0.874618  0.206669  0.214065  0.237831   \n",
       "DB       0.007529  0.100436  0.874618  1.000000  0.234939  0.233894  0.257544   \n",
       "alkphos  0.080425 -0.027496  0.206669  0.234939  1.000000  0.125680  0.167196   \n",
       "sgpt    -0.086883  0.082332  0.214065  0.233894  0.125680  1.000000  0.791966   \n",
       "sgot    -0.019910  0.080336  0.237831  0.257544  0.167196  0.791966  1.000000   \n",
       "TP      -0.187461 -0.089121 -0.008099 -0.000139 -0.028514 -0.042518 -0.025645   \n",
       "ALB     -0.265924 -0.093799 -0.222250 -0.228531 -0.165453 -0.029742 -0.085290   \n",
       "A_G      0.026948  0.049655  0.032129  0.034385  0.039139  0.027201  0.020991   \n",
       "class   -0.137351 -0.082416 -0.220208 -0.246046 -0.184866 -0.163416 -0.151934   \n",
       "\n",
       "               TP       ALB       A_G     class  \n",
       "age     -0.187461 -0.265924  0.026948 -0.137351  \n",
       "gender  -0.089121 -0.093799  0.049655 -0.082416  \n",
       "TB      -0.008099 -0.222250  0.032129 -0.220208  \n",
       "DB      -0.000139 -0.228531  0.034385 -0.246046  \n",
       "alkphos -0.028514 -0.165453  0.039139 -0.184866  \n",
       "sgpt    -0.042518 -0.029742  0.027201 -0.163416  \n",
       "sgot    -0.025645 -0.085290  0.020991 -0.151934  \n",
       "TP       1.000000  0.784053 -0.016607  0.035008  \n",
       "ALB      0.784053  1.000000 -0.050497  0.161388  \n",
       "A_G     -0.016607 -0.050497  1.000000 -0.039254  \n",
       "class    0.035008  0.161388 -0.039254  1.000000  "
      ]
     },
     "execution_count": 49,
     "metadata": {},
     "output_type": "execute_result"
    }
   ],
   "source": [
    "df2.corr()"
   ]
  },
  {
   "cell_type": "code",
   "execution_count": 51,
   "metadata": {},
   "outputs": [],
   "source": [
    "dfa=df2.groupby('class')\n",
    "dfa1=dfa.get_group(1)\n",
    "dfa2=dfa.get_group(2)"
   ]
  },
  {
   "cell_type": "code",
   "execution_count": 52,
   "metadata": {},
   "outputs": [],
   "source": [
    "from scipy.stats import ttest_ind,f_oneway,levene"
   ]
  },
  {
   "cell_type": "code",
   "execution_count": 57,
   "metadata": {},
   "outputs": [
    {
     "data": {
      "text/plain": [
       "Index(['age', 'gender', 'TB', 'DB', 'alkphos', 'sgpt', 'sgot', 'TP', 'ALB',\n",
       "       'A_G', 'class'],\n",
       "      dtype='object')"
      ]
     },
     "execution_count": 57,
     "metadata": {},
     "output_type": "execute_result"
    }
   ],
   "source": [
    "df2.columns"
   ]
  },
  {
   "cell_type": "code",
   "execution_count": 58,
   "metadata": {},
   "outputs": [],
   "source": [
    "col=['age', 'gender', 'TB', 'DB', 'alkphos', 'sgpt', 'sgot', 'TP', 'ALB',\n",
    "       'A_G']"
   ]
  },
  {
   "cell_type": "code",
   "execution_count": 87,
   "metadata": {},
   "outputs": [
    {
     "name": "stdout",
     "output_type": "stream",
     "text": [
      "age 0.0008840631556261385\n",
      "gender 0.046692526264183555\n",
      "TB 7.801430929364345e-08\n",
      "DB 1.7341026256990121e-09\n",
      "alkphos 7.027486640526998e-06\n",
      "sgpt 7.371781222193734e-05\n",
      "sgot 0.00023139008403085087\n",
      "TP 0.3988191275238614\n",
      "ALB 9.074360842955469e-05\n",
      "A_G 0.3440781162241686\n"
     ]
    }
   ],
   "source": [
    "res=[]\n",
    "for i in col:\n",
    "    t_statistic,p_value=ttest_ind(dfa1[i],dfa2[i])\n",
    "    if p_value<0.05:\n",
    "        res.append(p_value)\n",
    "    #res.append(i) \n",
    "        print(i,(p_value))\n",
    "    d=pd.Series(p_value,index=[i])\n",
    "    \n",
    "   \n",
    "    "
   ]
  },
  {
   "cell_type": "code",
   "execution_count": 110,
   "metadata": {},
   "outputs": [
    {
     "data": {
      "text/plain": [
       "['age', 'gender', 'TB', 'DB', 'alkphos', 'sgpt', 'sgot', 'ALB']"
      ]
     },
     "execution_count": 110,
     "metadata": {},
     "output_type": "execute_result"
    }
   ],
   "source": [
    "f=pd.DataFrame({'ind':col,'value':res})\n",
    "c=f[f['value']<0.05]\n",
    "\n",
    "c1=list(c['ind'])\n",
    "c1"
   ]
  },
  {
   "cell_type": "code",
   "execution_count": 232,
   "metadata": {},
   "outputs": [
    {
     "data": {
      "text/html": [
       "<div>\n",
       "<style scoped>\n",
       "    .dataframe tbody tr th:only-of-type {\n",
       "        vertical-align: middle;\n",
       "    }\n",
       "\n",
       "    .dataframe tbody tr th {\n",
       "        vertical-align: top;\n",
       "    }\n",
       "\n",
       "    .dataframe thead th {\n",
       "        text-align: right;\n",
       "    }\n",
       "</style>\n",
       "<table border=\"1\" class=\"dataframe\">\n",
       "  <thead>\n",
       "    <tr style=\"text-align: right;\">\n",
       "      <th></th>\n",
       "      <th>ind</th>\n",
       "      <th>value</th>\n",
       "    </tr>\n",
       "  </thead>\n",
       "  <tbody>\n",
       "    <tr>\n",
       "      <th>0</th>\n",
       "      <td>age</td>\n",
       "      <td>8.840632e-04</td>\n",
       "    </tr>\n",
       "    <tr>\n",
       "      <th>1</th>\n",
       "      <td>gender</td>\n",
       "      <td>4.669253e-02</td>\n",
       "    </tr>\n",
       "    <tr>\n",
       "      <th>2</th>\n",
       "      <td>TB</td>\n",
       "      <td>7.801431e-08</td>\n",
       "    </tr>\n",
       "    <tr>\n",
       "      <th>3</th>\n",
       "      <td>DB</td>\n",
       "      <td>1.734103e-09</td>\n",
       "    </tr>\n",
       "    <tr>\n",
       "      <th>4</th>\n",
       "      <td>alkphos</td>\n",
       "      <td>7.027487e-06</td>\n",
       "    </tr>\n",
       "    <tr>\n",
       "      <th>5</th>\n",
       "      <td>sgpt</td>\n",
       "      <td>7.371781e-05</td>\n",
       "    </tr>\n",
       "    <tr>\n",
       "      <th>6</th>\n",
       "      <td>sgot</td>\n",
       "      <td>2.313901e-04</td>\n",
       "    </tr>\n",
       "    <tr>\n",
       "      <th>7</th>\n",
       "      <td>TP</td>\n",
       "      <td>3.988191e-01</td>\n",
       "    </tr>\n",
       "    <tr>\n",
       "      <th>8</th>\n",
       "      <td>ALB</td>\n",
       "      <td>9.074361e-05</td>\n",
       "    </tr>\n",
       "    <tr>\n",
       "      <th>9</th>\n",
       "      <td>A_G</td>\n",
       "      <td>3.440781e-01</td>\n",
       "    </tr>\n",
       "  </tbody>\n",
       "</table>\n",
       "</div>"
      ],
      "text/plain": [
       "       ind         value\n",
       "0      age  8.840632e-04\n",
       "1   gender  4.669253e-02\n",
       "2       TB  7.801431e-08\n",
       "3       DB  1.734103e-09\n",
       "4  alkphos  7.027487e-06\n",
       "5     sgpt  7.371781e-05\n",
       "6     sgot  2.313901e-04\n",
       "7       TP  3.988191e-01\n",
       "8      ALB  9.074361e-05\n",
       "9      A_G  3.440781e-01"
      ]
     },
     "execution_count": 232,
     "metadata": {},
     "output_type": "execute_result"
    }
   ],
   "source": [
    "f"
   ]
  },
  {
   "cell_type": "code",
   "execution_count": 111,
   "metadata": {},
   "outputs": [],
   "source": [
    "X=df2.drop('class',axis=1)"
   ]
  },
  {
   "cell_type": "code",
   "execution_count": 114,
   "metadata": {},
   "outputs": [],
   "source": [
    "X1=X[c1]\n",
    "y=df2['class']\n"
   ]
  },
  {
   "cell_type": "code",
   "execution_count": 233,
   "metadata": {},
   "outputs": [
    {
     "data": {
      "text/html": [
       "<div>\n",
       "<style scoped>\n",
       "    .dataframe tbody tr th:only-of-type {\n",
       "        vertical-align: middle;\n",
       "    }\n",
       "\n",
       "    .dataframe tbody tr th {\n",
       "        vertical-align: top;\n",
       "    }\n",
       "\n",
       "    .dataframe thead th {\n",
       "        text-align: right;\n",
       "    }\n",
       "</style>\n",
       "<table border=\"1\" class=\"dataframe\">\n",
       "  <thead>\n",
       "    <tr style=\"text-align: right;\">\n",
       "      <th></th>\n",
       "      <th>age</th>\n",
       "      <th>gender</th>\n",
       "      <th>TB</th>\n",
       "      <th>DB</th>\n",
       "      <th>alkphos</th>\n",
       "      <th>sgpt</th>\n",
       "      <th>sgot</th>\n",
       "      <th>ALB</th>\n",
       "    </tr>\n",
       "  </thead>\n",
       "  <tbody>\n",
       "    <tr>\n",
       "      <th>0</th>\n",
       "      <td>65</td>\n",
       "      <td>0</td>\n",
       "      <td>0.7</td>\n",
       "      <td>0.1</td>\n",
       "      <td>187.0</td>\n",
       "      <td>16.0</td>\n",
       "      <td>18.0</td>\n",
       "      <td>3.3</td>\n",
       "    </tr>\n",
       "    <tr>\n",
       "      <th>1</th>\n",
       "      <td>62</td>\n",
       "      <td>1</td>\n",
       "      <td>10.9</td>\n",
       "      <td>5.5</td>\n",
       "      <td>699.0</td>\n",
       "      <td>64.0</td>\n",
       "      <td>100.0</td>\n",
       "      <td>3.2</td>\n",
       "    </tr>\n",
       "    <tr>\n",
       "      <th>2</th>\n",
       "      <td>62</td>\n",
       "      <td>1</td>\n",
       "      <td>7.3</td>\n",
       "      <td>4.1</td>\n",
       "      <td>490.0</td>\n",
       "      <td>60.0</td>\n",
       "      <td>68.0</td>\n",
       "      <td>3.3</td>\n",
       "    </tr>\n",
       "    <tr>\n",
       "      <th>3</th>\n",
       "      <td>58</td>\n",
       "      <td>1</td>\n",
       "      <td>1.0</td>\n",
       "      <td>0.4</td>\n",
       "      <td>182.0</td>\n",
       "      <td>14.0</td>\n",
       "      <td>20.0</td>\n",
       "      <td>3.4</td>\n",
       "    </tr>\n",
       "    <tr>\n",
       "      <th>4</th>\n",
       "      <td>72</td>\n",
       "      <td>1</td>\n",
       "      <td>3.9</td>\n",
       "      <td>2.0</td>\n",
       "      <td>195.0</td>\n",
       "      <td>27.0</td>\n",
       "      <td>59.0</td>\n",
       "      <td>2.4</td>\n",
       "    </tr>\n",
       "    <tr>\n",
       "      <th>...</th>\n",
       "      <td>...</td>\n",
       "      <td>...</td>\n",
       "      <td>...</td>\n",
       "      <td>...</td>\n",
       "      <td>...</td>\n",
       "      <td>...</td>\n",
       "      <td>...</td>\n",
       "      <td>...</td>\n",
       "    </tr>\n",
       "    <tr>\n",
       "      <th>578</th>\n",
       "      <td>60</td>\n",
       "      <td>1</td>\n",
       "      <td>0.5</td>\n",
       "      <td>0.1</td>\n",
       "      <td>500.0</td>\n",
       "      <td>20.0</td>\n",
       "      <td>34.0</td>\n",
       "      <td>1.6</td>\n",
       "    </tr>\n",
       "    <tr>\n",
       "      <th>579</th>\n",
       "      <td>40</td>\n",
       "      <td>1</td>\n",
       "      <td>0.6</td>\n",
       "      <td>0.1</td>\n",
       "      <td>98.0</td>\n",
       "      <td>35.0</td>\n",
       "      <td>31.0</td>\n",
       "      <td>3.2</td>\n",
       "    </tr>\n",
       "    <tr>\n",
       "      <th>580</th>\n",
       "      <td>52</td>\n",
       "      <td>1</td>\n",
       "      <td>0.8</td>\n",
       "      <td>0.2</td>\n",
       "      <td>245.0</td>\n",
       "      <td>48.0</td>\n",
       "      <td>49.0</td>\n",
       "      <td>3.2</td>\n",
       "    </tr>\n",
       "    <tr>\n",
       "      <th>581</th>\n",
       "      <td>31</td>\n",
       "      <td>1</td>\n",
       "      <td>1.3</td>\n",
       "      <td>0.5</td>\n",
       "      <td>184.0</td>\n",
       "      <td>29.0</td>\n",
       "      <td>32.0</td>\n",
       "      <td>3.4</td>\n",
       "    </tr>\n",
       "    <tr>\n",
       "      <th>582</th>\n",
       "      <td>38</td>\n",
       "      <td>1</td>\n",
       "      <td>1.0</td>\n",
       "      <td>0.3</td>\n",
       "      <td>216.0</td>\n",
       "      <td>21.0</td>\n",
       "      <td>24.0</td>\n",
       "      <td>4.4</td>\n",
       "    </tr>\n",
       "  </tbody>\n",
       "</table>\n",
       "<p>583 rows × 8 columns</p>\n",
       "</div>"
      ],
      "text/plain": [
       "     age  gender    TB   DB  alkphos  sgpt   sgot  ALB\n",
       "0     65       0   0.7  0.1    187.0  16.0   18.0  3.3\n",
       "1     62       1  10.9  5.5    699.0  64.0  100.0  3.2\n",
       "2     62       1   7.3  4.1    490.0  60.0   68.0  3.3\n",
       "3     58       1   1.0  0.4    182.0  14.0   20.0  3.4\n",
       "4     72       1   3.9  2.0    195.0  27.0   59.0  2.4\n",
       "..   ...     ...   ...  ...      ...   ...    ...  ...\n",
       "578   60       1   0.5  0.1    500.0  20.0   34.0  1.6\n",
       "579   40       1   0.6  0.1     98.0  35.0   31.0  3.2\n",
       "580   52       1   0.8  0.2    245.0  48.0   49.0  3.2\n",
       "581   31       1   1.3  0.5    184.0  29.0   32.0  3.4\n",
       "582   38       1   1.0  0.3    216.0  21.0   24.0  4.4\n",
       "\n",
       "[583 rows x 8 columns]"
      ]
     },
     "execution_count": 233,
     "metadata": {},
     "output_type": "execute_result"
    }
   ],
   "source": []
  },
  {
   "cell_type": "code",
   "execution_count": 119,
   "metadata": {},
   "outputs": [],
   "source": [
    "from sklearn.preprocessing import StandardScaler\n",
    "sc=StandardScaler()\n",
    "X_sc=sc.fit_transform(X1)"
   ]
  },
  {
   "cell_type": "code",
   "execution_count": 115,
   "metadata": {},
   "outputs": [],
   "source": [
    "models=[]\n"
   ]
  },
  {
   "cell_type": "code",
   "execution_count": 116,
   "metadata": {},
   "outputs": [],
   "source": [
    "from sklearn.linear_model import LinearRegression\n",
    "from sklearn.linear_model import LogisticRegression\n",
    "from sklearn.neighbors import KNeighborsClassifier\n",
    "from sklearn.tree import DecisionTreeClassifier\n",
    "from sklearn.ensemble import RandomForestClassifier,BaggingClassifier,AdaBoostClassifier,GradientBoostingClassifier\n",
    "from sklearn.ensemble import VotingClassifier\n",
    "from sklearn.naive_bayes import GaussianNB\n",
    "from sklearn.model_selection import cross_val_score\n",
    "from sklearn.model_selection import KFold"
   ]
  },
  {
   "cell_type": "code",
   "execution_count": 180,
   "metadata": {},
   "outputs": [],
   "source": [
    "LR=LogisticRegression()\n",
    "KNN=KNeighborsClassifier(n_neighbors=48, weights='distance')\n",
    "DT=DecisionTreeClassifier(criterion='entropy',random_state=0,max_depth=5)\n",
    "RF=RandomForestClassifier(criterion='entropy',n_estimators=4,random_state=0)\n",
    "BG=BaggingClassifier(n_estimators=9,random_state=0)\n",
    "AD=AdaBoostClassifier(n_estimators=7,random_state=0)\n",
    "ADL=AdaBoostClassifier(base_estimator=LR,n_estimators=38,random_state=0)"
   ]
  },
  {
   "cell_type": "code",
   "execution_count": 185,
   "metadata": {},
   "outputs": [],
   "source": [
    "models=[]\n",
    "models.append(('Logistic', LogisticRegression()))\n",
    "models.append(('Navie', GaussianNB()))\n",
    "models.append(('KNN', KNeighborsClassifier(n_neighbors=48, weights='distance')))\n",
    "models.append(('DT', DecisionTreeClassifier(criterion='entropy',random_state=0,max_depth=5)))\n",
    "models.append(('RF', RandomForestClassifier(criterion='entropy',n_estimators=4,random_state=0)))\n",
    "models.append(('BG', BaggingClassifier(n_estimators=9,random_state=0)))\n",
    "models.append(('ADA', AdaBoostClassifier(n_estimators=7,random_state=0)))\n",
    "models.append(('ADAL', AdaBoostClassifier(base_estimator=LR,n_estimators=38,random_state=0)))\n",
    "models.append(('St',stacked))"
   ]
  },
  {
   "cell_type": "code",
   "execution_count": 186,
   "metadata": {},
   "outputs": [
    {
     "name": "stdout",
     "output_type": "stream",
     "text": [
      "Logistic: 0.749433 (0.000388)\n",
      "Navie: 0.735214 (0.000285)\n",
      "KNN: 0.715526 (0.003258)\n",
      "DT: 0.650366 (0.001445)\n",
      "RF: 0.634829 (0.000242)\n",
      "BG: 0.687315 (0.000108)\n",
      "ADA: 0.668402 (0.005949)\n",
      "ADAL: 0.748530 (0.000533)\n",
      "St: 0.748988 (0.001471)\n"
     ]
    }
   ],
   "source": [
    "results=[]\n",
    "names = []\n",
    "for name,k in models:\n",
    "    kfold=KFold(shuffle=True,n_splits=3,random_state=0)\n",
    "   \n",
    "    cv_results=cross_val_score(k,X_sc,y,cv=kfold,scoring='roc_auc')\n",
    "    results.append(cv_results)\n",
    "    names.append(name)\n",
    "    print('%s: %f (%f)' % (name,np.mean(cv_results),np.var(cv_results,ddof=1)))"
   ]
  },
  {
   "cell_type": "code",
   "execution_count": 231,
   "metadata": {},
   "outputs": [
    {
     "data": {
      "image/png": "[encoded data removed]",
      "text/plain": [
       "<Figure size 432x288 with 1 Axes>"
      ]
     },
     "metadata": {
      "needs_background": "light"
     },
     "output_type": "display_data"
    }
   ],
   "source": [
    "fig = plt.figure()\n",
    "fig.suptitle('Algorithm Comparison')\n",
    "ax = fig.add_subplot(111)\n",
    "plt.boxplot(results)\n",
    "ax.set_xticklabels(names)\n",
    "plt.show()"
   ]
  },
  {
   "cell_type": "code",
   "execution_count": 125,
   "metadata": {},
   "outputs": [
    {
     "data": {
      "text/plain": [
       "GridSearchCV(cv=3, error_score='raise-deprecating',\n",
       "             estimator=KNeighborsClassifier(algorithm='auto', leaf_size=30,\n",
       "                                            metric='minkowski',\n",
       "                                            metric_params=None, n_jobs=None,\n",
       "                                            n_neighbors=5, p=2,\n",
       "                                            weights='uniform'),\n",
       "             iid='warn', n_jobs=None,\n",
       "             param_grid={'n_neighbors': array([ 1,  2,  3,  4,  5,  6,  7,  8,  9, 10, 11, 12, 13, 14, 15, 16, 17,\n",
       "       18, 19, 20, 21, 22, 23, 24, 25, 26, 27, 28, 29, 30, 31, 32, 33, 34,\n",
       "       35, 36, 37, 38, 39, 40, 41, 42, 43, 44, 45, 46, 47, 48, 49]),\n",
       "                         'weights': ['uniform', 'distance']},\n",
       "             pre_dispatch='2*n_jobs', refit=True, return_train_score=False,\n",
       "             scoring='roc_auc', verbose=0)"
      ]
     },
     "execution_count": 125,
     "metadata": {},
     "output_type": "execute_result"
    }
   ],
   "source": [
    "from sklearn.model_selection import GridSearchCV\n",
    "knn=KNeighborsClassifier()\n",
    "param={'n_neighbors':np.arange(1,50),'weights':['uniform','distance']}\n",
    "GS=GridSearchCV(knn,param,cv=3,scoring='roc_auc')\n",
    "GS.fit(X_sc,y)"
   ]
  },
  {
   "cell_type": "code",
   "execution_count": 126,
   "metadata": {},
   "outputs": [
    {
     "data": {
      "text/plain": [
       "{'n_neighbors': 48, 'weights': 'distance'}"
      ]
     },
     "execution_count": 126,
     "metadata": {},
     "output_type": "execute_result"
    }
   ],
   "source": [
    "GS.best_params_ "
   ]
  },
  {
   "cell_type": "code",
   "execution_count": 132,
   "metadata": {},
   "outputs": [
    {
     "name": "stderr",
     "output_type": "stream",
     "text": [
      "/Applications/anaconda3/lib/python3.7/site-packages/sklearn/model_selection/_split.py:1978: FutureWarning: The default value of cv will change from 3 to 5 in version 0.22. Specify it explicitly to silence this warning.\n",
      "  warnings.warn(CV_WARNING, FutureWarning)\n"
     ]
    },
    {
     "data": {
      "text/plain": [
       "GridSearchCV(cv='warn', error_score='raise-deprecating',\n",
       "             estimator=DecisionTreeClassifier(class_weight=None,\n",
       "                                              criterion='gini', max_depth=None,\n",
       "                                              max_features=None,\n",
       "                                              max_leaf_nodes=None,\n",
       "                                              min_impurity_decrease=0.0,\n",
       "                                              min_impurity_split=None,\n",
       "                                              min_samples_leaf=1,\n",
       "                                              min_samples_split=2,\n",
       "                                              min_weight_fraction_leaf=0.0,\n",
       "                                              presort=False, random_state=0,\n",
       "                                              splitter='best'),\n",
       "             iid='warn', n_jobs=None,\n",
       "             param_grid={'criterion': ['gini', 'entropy'],\n",
       "                         'max_depth': [2, 5, 10]},\n",
       "             pre_dispatch='2*n_jobs', refit=True, return_train_score=False,\n",
       "             scoring='roc_auc', verbose=0)"
      ]
     },
     "execution_count": 132,
     "metadata": {},
     "output_type": "execute_result"
    }
   ],
   "source": [
    "DT=DecisionTreeClassifier(random_state=0)\n",
    "param={'criterion':['gini','entropy'],'max_depth':[2,5,10]}\n",
    "GSD=GridSearchCV(DT,param,scoring='roc_auc')\n",
    "GSD.fit(X_sc,y)"
   ]
  },
  {
   "cell_type": "code",
   "execution_count": 133,
   "metadata": {},
   "outputs": [
    {
     "data": {
      "text/plain": [
       "{'criterion': 'entropy', 'max_depth': 5}"
      ]
     },
     "execution_count": 133,
     "metadata": {},
     "output_type": "execute_result"
    }
   ],
   "source": [
    "GSD.best_params_ "
   ]
  },
  {
   "cell_type": "code",
   "execution_count": 136,
   "metadata": {},
   "outputs": [
    {
     "name": "stdout",
     "output_type": "stream",
     "text": [
      "1 0.0008760932685987577\n",
      "2 9.290220283152591e-05\n",
      "3 5.7485525562834215e-05\n",
      "4 0.00024217916501303213\n",
      "5 0.000896631093471508\n",
      "6 0.0016351725333147646\n",
      "7 0.0031197602811337327\n",
      "8 0.004127254239540478\n",
      "9 0.0035901494525617545\n",
      "10 0.0032219465761368256\n",
      "11 0.0026906456103996685\n",
      "12 0.0027134231102606543\n",
      "13 0.0021209449243300435\n",
      "14 0.002310614380345673\n",
      "15 0.00238097096584984\n",
      "16 0.002344728626105449\n",
      "17 0.002231928131077802\n",
      "18 0.0017537970737186714\n",
      "19 0.002027822008138553\n",
      "20 0.002205725554964026\n",
      "21 0.0020228772899099907\n",
      "22 0.0020372120814684093\n",
      "23 0.002076010515796898\n",
      "24 0.002095078933074145\n",
      "25 0.0019208177451455213\n",
      "26 0.0023405757953140743\n",
      "27 0.001888100026460315\n",
      "28 0.0015497477982998002\n",
      "29 0.0014775155861720467\n",
      "30 0.0013743261111271061\n",
      "31 0.001446930903722192\n",
      "32 0.0016658439866021548\n",
      "33 0.0016445738287795325\n",
      "34 0.0017824418450033287\n",
      "35 0.0018118688849626564\n",
      "36 0.001703527185943468\n",
      "37 0.0015289397262275674\n",
      "38 0.0016803633811609154\n",
      "39 0.001860139907567718\n",
      "40 0.0018639752317351603\n",
      "41 0.001928235763156482\n",
      "42 0.0015982224757313738\n",
      "43 0.0014306447280720519\n",
      "44 0.0014586564503540264\n",
      "45 0.0012682402910289168\n",
      "46 0.0015161957187480551\n",
      "47 0.001689178381539594\n",
      "48 0.001913605719320355\n",
      "49 0.0017394252931337353\n"
     ]
    }
   ],
   "source": [
    "RF_val=[]\n",
    "for val in np.arange(1,50):\n",
    "    RF=RandomForestClassifier(criterion='entropy',n_estimators=val,random_state=0)\n",
    "    kfold=KFold(shuffle=True,n_splits=3,random_state=0)\n",
    "    cv_results=cross_val_score(RF,X_sc,y,cv=kfold,scoring='roc_auc')\n",
    "    RF_val.append(np.var(cv_results,ddof=1))\n",
    "    print(val,np.var(cv_results,ddof=1))"
   ]
  },
  {
   "cell_type": "code",
   "execution_count": 137,
   "metadata": {},
   "outputs": [
    {
     "data": {
      "text/plain": [
       "[<matplotlib.lines.Line2D at 0x1a2f2603d0>]"
      ]
     },
     "execution_count": 137,
     "metadata": {},
     "output_type": "execute_result"
    },
    {
     "data": {
      "image/png": "[encoded data removed]",
      "text/plain": [
       "<Figure size 432x288 with 1 Axes>"
      ]
     },
     "metadata": {
      "needs_background": "light"
     },
     "output_type": "display_data"
    }
   ],
   "source": [
    "plt.plot(RF_val)"
   ]
  },
  {
   "cell_type": "code",
   "execution_count": 140,
   "metadata": {},
   "outputs": [
    {
     "name": "stdout",
     "output_type": "stream",
     "text": [
      "1 0.0012505799874238967\n",
      "2 0.0014547611385006382\n",
      "3 9.662942999727795e-05\n",
      "4 6.533707682817626e-05\n",
      "5 0.0002960763544243721\n",
      "6 0.0007779791144508072\n",
      "7 0.000834269783311601\n",
      "8 0.00028021861214800437\n",
      "9 0.00010831657372144634\n",
      "10 0.00030486034886951195\n",
      "11 0.000407447935393594\n",
      "12 0.00024230137178154714\n",
      "13 8.34274599655104e-05\n",
      "14 2.508829399120332e-05\n",
      "15 0.00018817846804723172\n",
      "16 0.00012773126663134573\n",
      "17 4.928509676678926e-05\n",
      "18 0.00010626041560281855\n",
      "19 0.00015914742614051643\n",
      "20 5.3751221649620676e-05\n",
      "21 5.8975833186667456e-05\n",
      "22 5.7292322501242826e-05\n",
      "23 2.031089896974383e-05\n",
      "24 9.009936119762523e-05\n",
      "25 8.097461463479169e-05\n",
      "26 0.0002967923316344829\n",
      "27 0.00031915769365974806\n",
      "28 0.00032966808381337955\n",
      "29 0.0003086179835396359\n",
      "30 0.00029068451742504176\n",
      "31 0.00037527889833803747\n",
      "32 0.00035610002399332884\n",
      "33 0.0002946220398279671\n",
      "34 0.00028890173388109407\n",
      "35 0.0003142193145708373\n",
      "36 0.0002762143196016005\n",
      "37 0.00037209152858826757\n",
      "38 0.0003455393166492404\n",
      "39 0.0002824838507246244\n",
      "40 0.00030542012612738294\n",
      "41 0.0002965174321233506\n",
      "42 0.0003015003093235981\n",
      "43 0.0003646197883607449\n",
      "44 0.0003513313033032293\n",
      "45 0.00033093437754075903\n",
      "46 0.0003174761973623975\n",
      "47 0.00035277527687169\n",
      "48 0.0004409476965969813\n",
      "49 0.00040861820912241396\n"
     ]
    }
   ],
   "source": [
    "BG_val=[]\n",
    "for val in np.arange(1,50):\n",
    "    BG=BaggingClassifier(n_estimators=val,random_state=0)\n",
    "    kfold=KFold(shuffle=True,n_splits=3,random_state=0)\n",
    "    cv_results=cross_val_score(BG,X_sc,y,cv=kfold,scoring='roc_auc')\n",
    "    BG_val.append(np.var(cv_results,ddof=1))\n",
    "    print(val,np.var(cv_results,ddof=1))"
   ]
  },
  {
   "cell_type": "code",
   "execution_count": 141,
   "metadata": {},
   "outputs": [
    {
     "data": {
      "text/plain": [
       "[<matplotlib.lines.Line2D at 0x1a2fbd73d0>]"
      ]
     },
     "execution_count": 141,
     "metadata": {},
     "output_type": "execute_result"
    },
    {
     "data": {
      "image/png": "[encoded data removed]",
      "text/plain": [
       "<Figure size 432x288 with 1 Axes>"
      ]
     },
     "metadata": {
      "needs_background": "light"
     },
     "output_type": "display_data"
    }
   ],
   "source": [
    "plt.plot(BG_val)"
   ]
  },
  {
   "cell_type": "code",
   "execution_count": 153,
   "metadata": {},
   "outputs": [
    {
     "name": "stdout",
     "output_type": "stream",
     "text": [
      "1 0.2676118486094424\n",
      "2 0.266593472412441\n",
      "3 0.2658587501698929\n",
      "4 0.2643856392775281\n",
      "5 0.2633452493407308\n",
      "6 0.26223434674704205\n",
      "7 0.26140065974736304\n",
      "8 0.2606103952415636\n",
      "9 0.25959651115463445\n",
      "10 0.25941728719256985\n",
      "11 0.25816352986473656\n",
      "12 0.25808177659638\n",
      "13 0.2572118524949767\n",
      "14 0.25661143765719074\n",
      "15 0.25614354669236317\n",
      "16 0.25571113050136285\n",
      "17 0.2557884703307396\n",
      "18 0.2556625475367923\n",
      "19 0.2550440955074279\n",
      "20 0.25438596606254515\n",
      "21 0.2545560583820832\n",
      "22 0.25411084414128815\n",
      "23 0.25329474214623904\n",
      "24 0.2536772287316277\n",
      "25 0.2533569641595944\n",
      "26 0.2532547065110511\n",
      "27 0.25334035228015006\n",
      "28 0.2533074080698382\n",
      "29 0.25300555420523896\n",
      "30 0.2533425246239954\n",
      "31 0.25311778449529887\n",
      "32 0.2525078644991309\n",
      "33 0.2525483676174535\n",
      "34 0.25236547724812064\n",
      "35 0.2521397639942383\n",
      "36 0.25178984810330585\n",
      "37 0.25177899630388245\n",
      "38 0.25147018314060243\n",
      "39 0.25190245190922134\n",
      "40 0.2516740453732563\n",
      "41 0.2517112556001665\n",
      "42 0.25144563883729154\n",
      "43 0.2514377064134251\n",
      "44 0.25165414060239943\n",
      "45 0.2519684190009377\n",
      "46 0.2521321516311249\n",
      "47 0.25226294005100025\n",
      "48 0.2526928890533924\n",
      "49 0.2526967815541349\n"
     ]
    }
   ],
   "source": [
    "ADAL_val=[]\n",
    "for val in np.arange(1,50):\n",
    "    AD=AdaBoostClassifier(base_estimator=LR,n_estimators=val,random_state=0)\n",
    "    kfold=KFold(shuffle=True,n_splits=3,random_state=0)\n",
    "    cv_results=cross_val_score(AD,X_sc,y,cv=kfold,scoring='roc_auc')\n",
    "    ADAL_val.append((1-np.mean(cv_results)))\n",
    "    print(val,(1-np.mean(cv_results)))"
   ]
  },
  {
   "cell_type": "code",
   "execution_count": 154,
   "metadata": {},
   "outputs": [
    {
     "data": {
      "text/plain": [
       "[<matplotlib.lines.Line2D at 0x1a2fceff10>]"
      ]
     },
     "execution_count": 154,
     "metadata": {},
     "output_type": "execute_result"
    },
    {
     "data": {
      "image/png": "[encoded data removed]",
      "text/plain": [
       "<Figure size 432x288 with 1 Axes>"
      ]
     },
     "metadata": {
      "needs_background": "light"
     },
     "output_type": "display_data"
    }
   ],
   "source": [
    "plt.plot(ADAL_val)"
   ]
  },
  {
   "cell_type": "code",
   "execution_count": 178,
   "metadata": {},
   "outputs": [
    {
     "name": "stdout",
     "output_type": "stream",
     "text": [
      "1 0.40564366295157406\n",
      "2 0.3878407155702269\n",
      "3 0.3499903718352838\n",
      "4 0.34224642126752514\n",
      "5 0.3484473667314436\n",
      "6 0.32337307753732214\n",
      "7 0.31999247082879156\n",
      "8 0.3353034119400391\n",
      "9 0.33817271891443956\n",
      "10 0.33191923788502653\n",
      "11 0.32713109740327206\n",
      "12 0.33936673254455585\n",
      "13 0.348966222880151\n",
      "14 0.33734058816274204\n",
      "15 0.3418780588233006\n",
      "16 0.34740901298893745\n",
      "17 0.33731567974019305\n",
      "18 0.3380487113806637\n",
      "19 0.3410499510354216\n",
      "20 0.33835143517336796\n",
      "21 0.33558369951612466\n",
      "22 0.3401296818615702\n",
      "23 0.3371031970259869\n",
      "24 0.3313883458560568\n",
      "25 0.33624637226964904\n",
      "26 0.3443123231587184\n",
      "27 0.34599523187209347\n",
      "28 0.34224131135655766\n",
      "29 0.34539396082043716\n",
      "30 0.33708053422414297\n",
      "31 0.34251798738234507\n",
      "32 0.33203498996641967\n",
      "33 0.3342878518262219\n",
      "34 0.3334214991562082\n",
      "35 0.3342990308683632\n",
      "36 0.33614633890322476\n",
      "37 0.33519807897882814\n",
      "38 0.33975301604942076\n",
      "39 0.34238181314366845\n",
      "40 0.34055094886157466\n",
      "41 0.3463712142609606\n",
      "42 0.3373750530072831\n",
      "43 0.33873765882426987\n",
      "44 0.33347578847596937\n",
      "45 0.3365426758959916\n",
      "46 0.3451159507240825\n",
      "47 0.33478830765373335\n",
      "48 0.335051881513566\n",
      "49 0.34623006745824736\n"
     ]
    }
   ],
   "source": [
    "ADA_val=[]\n",
    "for val in np.arange(1,50):\n",
    "    AD=AdaBoostClassifier(n_estimators=val,random_state=0)\n",
    "    kfold=KFold(shuffle=True,n_splits=3,random_state=0)\n",
    "    cv_results=cross_val_score(AD,X_sc,y,cv=kfold,scoring='f1_weighted')\n",
    "    ADA_val.append((1-np.mean(cv_results)))\n",
    "    print(val,(1-np.mean(cv_results)))"
   ]
  },
  {
   "cell_type": "code",
   "execution_count": 179,
   "metadata": {},
   "outputs": [
    {
     "data": {
      "text/plain": [
       "[<matplotlib.lines.Line2D at 0x1a3002d0d0>]"
      ]
     },
     "execution_count": 179,
     "metadata": {},
     "output_type": "execute_result"
    },
    {
     "data": {
      "image/png": "[encoded data removed]",
      "text/plain": [
       "<Figure size 432x288 with 1 Axes>"
      ]
     },
     "metadata": {
      "needs_background": "light"
     },
     "output_type": "display_data"
    }
   ],
   "source": [
    "plt.plot(ADA_val)"
   ]
  },
  {
   "cell_type": "code",
   "execution_count": 158,
   "metadata": {},
   "outputs": [],
   "source": [
    "from sklearn.model_selection import train_test_split"
   ]
  },
  {
   "cell_type": "code",
   "execution_count": 159,
   "metadata": {},
   "outputs": [],
   "source": [
    "X_train, X_test, y_train, y_test = train_test_split(X_sc, y, test_size=0.30, random_state=0)"
   ]
  },
  {
   "cell_type": "code",
   "execution_count": 161,
   "metadata": {},
   "outputs": [],
   "source": [
    "LR1=LogisticRegression()"
   ]
  },
  {
   "cell_type": "code",
   "execution_count": 162,
   "metadata": {},
   "outputs": [
    {
     "data": {
      "text/plain": [
       "LogisticRegression(C=1.0, class_weight=None, dual=False, fit_intercept=True,\n",
       "                   intercept_scaling=1, l1_ratio=None, max_iter=100,\n",
       "                   multi_class='warn', n_jobs=None, penalty='l2',\n",
       "                   random_state=None, solver='warn', tol=0.0001, verbose=0,\n",
       "                   warm_start=False)"
      ]
     },
     "execution_count": 162,
     "metadata": {},
     "output_type": "execute_result"
    }
   ],
   "source": [
    "LR1.fit(X_train,y_train)"
   ]
  },
  {
   "cell_type": "code",
   "execution_count": 163,
   "metadata": {},
   "outputs": [
    {
     "data": {
      "text/plain": [
       "0.7328431372549019"
      ]
     },
     "execution_count": 163,
     "metadata": {},
     "output_type": "execute_result"
    }
   ],
   "source": [
    "LR1.score(X_train,y_train)"
   ]
  },
  {
   "cell_type": "code",
   "execution_count": 164,
   "metadata": {},
   "outputs": [
    {
     "data": {
      "text/plain": [
       "0.7028571428571428"
      ]
     },
     "execution_count": 164,
     "metadata": {},
     "output_type": "execute_result"
    }
   ],
   "source": [
    "LR1.score(X_test,y_test)"
   ]
  },
  {
   "cell_type": "code",
   "execution_count": 165,
   "metadata": {},
   "outputs": [],
   "source": [
    "ADL1=AdaBoostClassifier(base_estimator=LR1,n_estimators=38,random_state=0)"
   ]
  },
  {
   "cell_type": "code",
   "execution_count": 167,
   "metadata": {},
   "outputs": [
    {
     "data": {
      "text/plain": [
       "AdaBoostClassifier(algorithm='SAMME.R',\n",
       "                   base_estimator=LogisticRegression(C=1.0, class_weight=None,\n",
       "                                                     dual=False,\n",
       "                                                     fit_intercept=True,\n",
       "                                                     intercept_scaling=1,\n",
       "                                                     l1_ratio=None,\n",
       "                                                     max_iter=100,\n",
       "                                                     multi_class='warn',\n",
       "                                                     n_jobs=None, penalty='l2',\n",
       "                                                     random_state=None,\n",
       "                                                     solver='warn', tol=0.0001,\n",
       "                                                     verbose=0,\n",
       "                                                     warm_start=False),\n",
       "                   learning_rate=1.0, n_estimators=38, random_state=0)"
      ]
     },
     "execution_count": 167,
     "metadata": {},
     "output_type": "execute_result"
    }
   ],
   "source": [
    "ADL1.fit(X_train,y_train)"
   ]
  },
  {
   "cell_type": "code",
   "execution_count": 168,
   "metadata": {},
   "outputs": [
    {
     "data": {
      "text/plain": [
       "0.7142857142857143"
      ]
     },
     "execution_count": 168,
     "metadata": {},
     "output_type": "execute_result"
    }
   ],
   "source": [
    "ADL1.score(X_test,y_test)"
   ]
  },
  {
   "cell_type": "code",
   "execution_count": 169,
   "metadata": {},
   "outputs": [
    {
     "data": {
      "text/plain": [
       "0.7450980392156863"
      ]
     },
     "execution_count": 169,
     "metadata": {},
     "output_type": "execute_result"
    }
   ],
   "source": [
    "ADL1.score(X_train,y_train)"
   ]
  },
  {
   "cell_type": "code",
   "execution_count": 171,
   "metadata": {},
   "outputs": [],
   "source": [
    "RF1=RandomForestClassifier(criterion='entropy',n_estimators=4,random_state=0)"
   ]
  },
  {
   "cell_type": "code",
   "execution_count": 172,
   "metadata": {},
   "outputs": [
    {
     "data": {
      "text/plain": [
       "RandomForestClassifier(bootstrap=True, class_weight=None, criterion='entropy',\n",
       "                       max_depth=None, max_features='auto', max_leaf_nodes=None,\n",
       "                       min_impurity_decrease=0.0, min_impurity_split=None,\n",
       "                       min_samples_leaf=1, min_samples_split=2,\n",
       "                       min_weight_fraction_leaf=0.0, n_estimators=4,\n",
       "                       n_jobs=None, oob_score=False, random_state=0, verbose=0,\n",
       "                       warm_start=False)"
      ]
     },
     "execution_count": 172,
     "metadata": {},
     "output_type": "execute_result"
    }
   ],
   "source": [
    "RF1.fit(X_train,y_train)"
   ]
  },
  {
   "cell_type": "code",
   "execution_count": 173,
   "metadata": {},
   "outputs": [
    {
     "data": {
      "text/plain": [
       "0.68"
      ]
     },
     "execution_count": 173,
     "metadata": {},
     "output_type": "execute_result"
    }
   ],
   "source": [
    "RF1.score(X_test,y_test)"
   ]
  },
  {
   "cell_type": "code",
   "execution_count": 174,
   "metadata": {},
   "outputs": [
    {
     "data": {
      "text/plain": [
       "0.9387254901960784"
      ]
     },
     "execution_count": 174,
     "metadata": {},
     "output_type": "execute_result"
    }
   ],
   "source": [
    "RF1.score(X_train,y_train)"
   ]
  },
  {
   "cell_type": "code",
   "execution_count": 183,
   "metadata": {},
   "outputs": [],
   "source": [
    "from sklearn.ensemble import VotingClassifier"
   ]
  },
  {
   "cell_type": "code",
   "execution_count": 184,
   "metadata": {},
   "outputs": [],
   "source": [
    "stacked=VotingClassifier(estimators=[('Logistic',LR),('KNN',KNN),('ADL',ADL)],voting='soft')"
   ]
  },
  {
   "cell_type": "code",
   "execution_count": null,
   "metadata": {},
   "outputs": [],
   "source": []
  },
  {
   "cell_type": "markdown",
   "metadata": {},
   "source": [
    "# USL"
   ]
  },
  {
   "cell_type": "code",
   "execution_count": 187,
   "metadata": {},
   "outputs": [],
   "source": [
    "from sklearn.cluster import KMeans"
   ]
  },
  {
   "cell_type": "code",
   "execution_count": 188,
   "metadata": {},
   "outputs": [
    {
     "data": {
      "text/plain": [
       "KMeans(algorithm='auto', copy_x=True, init='k-means++', max_iter=300,\n",
       "       n_clusters=2, n_init=10, n_jobs=None, precompute_distances='auto',\n",
       "       random_state=None, tol=0.0001, verbose=0)"
      ]
     },
     "execution_count": 188,
     "metadata": {},
     "output_type": "execute_result"
    }
   ],
   "source": [
    "kmeans=KMeans(n_clusters=2)\n",
    "kmeans.fit(X_sc)"
   ]
  },
  {
   "cell_type": "code",
   "execution_count": 200,
   "metadata": {},
   "outputs": [],
   "source": [
    "cluster_range = range( 1, 20)\n",
    "cluster_error=[]\n",
    "for n in cluster_range:\n",
    "    cl=KMeans(n)\n",
    "    cl.fit(X_sc)\n",
    "    cluster_error.append(cl.inertia_)\n",
    "d=pd.DataFrame({'cluster':cluster_range,'cluster_error':cluster_error})"
   ]
  },
  {
   "cell_type": "code",
   "execution_count": 201,
   "metadata": {},
   "outputs": [
    {
     "data": {
      "text/html": [
       "<div>\n",
       "<style scoped>\n",
       "    .dataframe tbody tr th:only-of-type {\n",
       "        vertical-align: middle;\n",
       "    }\n",
       "\n",
       "    .dataframe tbody tr th {\n",
       "        vertical-align: top;\n",
       "    }\n",
       "\n",
       "    .dataframe thead th {\n",
       "        text-align: right;\n",
       "    }\n",
       "</style>\n",
       "<table border=\"1\" class=\"dataframe\">\n",
       "  <thead>\n",
       "    <tr style=\"text-align: right;\">\n",
       "      <th></th>\n",
       "      <th>cluster</th>\n",
       "      <th>cluster_error</th>\n",
       "    </tr>\n",
       "  </thead>\n",
       "  <tbody>\n",
       "    <tr>\n",
       "      <th>0</th>\n",
       "      <td>1</td>\n",
       "      <td>4664.000000</td>\n",
       "    </tr>\n",
       "    <tr>\n",
       "      <th>1</th>\n",
       "      <td>2</td>\n",
       "      <td>3632.574074</td>\n",
       "    </tr>\n",
       "    <tr>\n",
       "      <th>2</th>\n",
       "      <td>3</td>\n",
       "      <td>3060.346241</td>\n",
       "    </tr>\n",
       "    <tr>\n",
       "      <th>3</th>\n",
       "      <td>4</td>\n",
       "      <td>2502.769952</td>\n",
       "    </tr>\n",
       "    <tr>\n",
       "      <th>4</th>\n",
       "      <td>5</td>\n",
       "      <td>2150.587225</td>\n",
       "    </tr>\n",
       "    <tr>\n",
       "      <th>5</th>\n",
       "      <td>6</td>\n",
       "      <td>1866.498536</td>\n",
       "    </tr>\n",
       "    <tr>\n",
       "      <th>6</th>\n",
       "      <td>7</td>\n",
       "      <td>1679.979630</td>\n",
       "    </tr>\n",
       "    <tr>\n",
       "      <th>7</th>\n",
       "      <td>8</td>\n",
       "      <td>1550.787802</td>\n",
       "    </tr>\n",
       "    <tr>\n",
       "      <th>8</th>\n",
       "      <td>9</td>\n",
       "      <td>1471.433737</td>\n",
       "    </tr>\n",
       "    <tr>\n",
       "      <th>9</th>\n",
       "      <td>10</td>\n",
       "      <td>1382.231212</td>\n",
       "    </tr>\n",
       "    <tr>\n",
       "      <th>10</th>\n",
       "      <td>11</td>\n",
       "      <td>1291.658872</td>\n",
       "    </tr>\n",
       "    <tr>\n",
       "      <th>11</th>\n",
       "      <td>12</td>\n",
       "      <td>1199.322503</td>\n",
       "    </tr>\n",
       "    <tr>\n",
       "      <th>12</th>\n",
       "      <td>13</td>\n",
       "      <td>1150.680159</td>\n",
       "    </tr>\n",
       "    <tr>\n",
       "      <th>13</th>\n",
       "      <td>14</td>\n",
       "      <td>1093.226240</td>\n",
       "    </tr>\n",
       "    <tr>\n",
       "      <th>14</th>\n",
       "      <td>15</td>\n",
       "      <td>1014.706864</td>\n",
       "    </tr>\n",
       "    <tr>\n",
       "      <th>15</th>\n",
       "      <td>16</td>\n",
       "      <td>970.754454</td>\n",
       "    </tr>\n",
       "    <tr>\n",
       "      <th>16</th>\n",
       "      <td>17</td>\n",
       "      <td>909.436358</td>\n",
       "    </tr>\n",
       "    <tr>\n",
       "      <th>17</th>\n",
       "      <td>18</td>\n",
       "      <td>884.257170</td>\n",
       "    </tr>\n",
       "    <tr>\n",
       "      <th>18</th>\n",
       "      <td>19</td>\n",
       "      <td>836.982586</td>\n",
       "    </tr>\n",
       "  </tbody>\n",
       "</table>\n",
       "</div>"
      ],
      "text/plain": [
       "    cluster  cluster_error\n",
       "0         1    4664.000000\n",
       "1         2    3632.574074\n",
       "2         3    3060.346241\n",
       "3         4    2502.769952\n",
       "4         5    2150.587225\n",
       "5         6    1866.498536\n",
       "6         7    1679.979630\n",
       "7         8    1550.787802\n",
       "8         9    1471.433737\n",
       "9        10    1382.231212\n",
       "10       11    1291.658872\n",
       "11       12    1199.322503\n",
       "12       13    1150.680159\n",
       "13       14    1093.226240\n",
       "14       15    1014.706864\n",
       "15       16     970.754454\n",
       "16       17     909.436358\n",
       "17       18     884.257170\n",
       "18       19     836.982586"
      ]
     },
     "execution_count": 201,
     "metadata": {},
     "output_type": "execute_result"
    }
   ],
   "source": [
    "d"
   ]
  },
  {
   "cell_type": "code",
   "execution_count": 203,
   "metadata": {},
   "outputs": [
    {
     "data": {
      "text/plain": [
       "[<matplotlib.lines.Line2D at 0x1a30e3b310>]"
      ]
     },
     "execution_count": 203,
     "metadata": {},
     "output_type": "execute_result"
    },
    {
     "data": {
      "image/png": "[encoded data removed]",
      "text/plain": [
       "<Figure size 864x432 with 1 Axes>"
      ]
     },
     "metadata": {
      "needs_background": "light"
     },
     "output_type": "display_data"
    }
   ],
   "source": [
    "plt.figure(figsize=(12,6))\n",
    "plt.plot(d['cluster'],d['cluster_error'],marker='*')"
   ]
  },
  {
   "cell_type": "code",
   "execution_count": 212,
   "metadata": {},
   "outputs": [
    {
     "data": {
      "text/plain": [
       "KMeans(algorithm='auto', copy_x=True, init='k-means++', max_iter=300,\n",
       "       n_clusters=5, n_init=10, n_jobs=None, precompute_distances='auto',\n",
       "       random_state=None, tol=0.0001, verbose=0)"
      ]
     },
     "execution_count": 212,
     "metadata": {},
     "output_type": "execute_result"
    }
   ],
   "source": [
    "kmeans=KMeans(n_clusters=5)\n",
    "kmeans.fit(X_sc)"
   ]
  },
  {
   "cell_type": "code",
   "execution_count": 214,
   "metadata": {},
   "outputs": [
    {
     "data": {
      "text/plain": [
       "array([3, 1, 1, 1, 1, 0, 3, 3, 0, 1, 1, 1, 1, 3, 1, 0, 0, 0, 3, 3, 1, 1,\n",
       "       1, 1, 0, 4, 4, 4, 0, 3, 1, 1, 1, 3, 3, 0, 3, 2, 1, 0, 1, 1, 1, 1,\n",
       "       3, 0, 0, 4, 3, 2, 3, 3, 0, 0, 1, 1, 0, 3, 1, 1, 3, 0, 0, 1, 1, 1,\n",
       "       0, 0, 1, 1, 3, 3, 3, 0, 1, 3, 1, 1, 1, 1, 1, 0, 1, 0, 0, 0, 0, 1,\n",
       "       0, 1, 1, 1, 1, 1, 1, 1, 0, 1, 0, 0, 0, 0, 0, 3, 1, 0, 0, 0, 0, 0,\n",
       "       3, 1, 0, 1, 1, 1, 1, 4, 4, 4, 2, 2, 1, 3, 0, 1, 1, 1, 1, 1, 1, 3,\n",
       "       3, 1, 0, 4, 3, 0, 0, 0, 1, 3, 0, 0, 3, 1, 3, 1, 0, 0, 0, 1, 3, 0,\n",
       "       0, 1, 0, 1, 1, 0, 1, 1, 1, 0, 0, 1, 2, 3, 2, 1, 1, 3, 2, 0, 0, 0,\n",
       "       1, 2, 1, 1, 1, 1, 1, 0, 0, 0, 1, 1, 1, 3, 1, 1, 1, 0, 1, 1, 1, 3,\n",
       "       0, 2, 1, 1, 3, 0, 0, 0, 0, 4, 3, 3, 0, 0, 0, 3, 0, 1, 0, 0, 0, 0,\n",
       "       0, 0, 0, 0, 1, 0, 0, 3, 3, 0, 0, 0, 0, 1, 3, 1, 0, 3, 3, 0, 0, 1,\n",
       "       3, 3, 1, 1, 1, 1, 0, 0, 0, 1, 1, 3, 3, 1, 1, 0, 0, 2, 2, 0, 0, 3,\n",
       "       0, 0, 0, 3, 2, 0, 0, 0, 2, 0, 0, 0, 0, 1, 0, 3, 1, 0, 0, 0, 0, 0,\n",
       "       3, 0, 3, 0, 3, 0, 0, 0, 0, 0, 3, 3, 3, 3, 0, 3, 3, 0, 3, 3, 1, 0,\n",
       "       3, 3, 0, 2, 0, 3, 0, 0, 0, 0, 0, 0, 3, 3, 0, 0, 1, 0, 3, 0, 0, 0,\n",
       "       0, 0, 0, 3, 3, 3, 1, 1, 1, 1, 1, 3, 0, 1, 0, 1, 0, 0, 1, 3, 0, 1,\n",
       "       3, 3, 3, 0, 0, 0, 0, 3, 0, 3, 1, 3, 0, 0, 0, 1, 3, 3, 2, 0, 0, 3,\n",
       "       3, 0, 0, 3, 3, 1, 0, 0, 3, 3, 0, 0, 0, 0, 0, 1, 1, 1, 0, 0, 3, 0,\n",
       "       1, 1, 0, 0, 3, 1, 3, 1, 0, 3, 0, 0, 1, 1, 0, 3, 1, 1, 1, 1, 1, 0,\n",
       "       1, 1, 1, 0, 0, 0, 3, 1, 1, 1, 3, 1, 3, 3, 0, 3, 3, 3, 0, 0, 1, 3,\n",
       "       3, 3, 3, 3, 1, 0, 1, 2, 3, 3, 1, 0, 1, 0, 0, 3, 0, 1, 1, 1, 3, 3,\n",
       "       0, 0, 3, 3, 3, 3, 1, 1, 0, 3, 1, 0, 0, 0, 0, 1, 0, 4, 0, 0, 0, 0,\n",
       "       1, 3, 3, 0, 1, 1, 3, 0, 3, 1, 0, 0, 0, 1, 1, 1, 1, 0, 0, 2, 2, 2,\n",
       "       2, 0, 2, 2, 3, 0, 1, 1, 0, 1, 1, 0, 0, 2, 0, 1, 3, 1, 0, 3, 1, 0,\n",
       "       1, 1, 3, 2, 1, 3, 0, 2, 2, 3, 1, 3, 0, 0, 0, 0, 3, 3, 2, 2, 1, 3,\n",
       "       1, 0, 0, 1, 1, 1, 0, 1, 0, 2, 2, 2, 2, 1, 3, 2, 3, 1, 2, 0, 0, 1,\n",
       "       2, 1, 2, 2, 2, 2, 1, 0, 1, 0, 0], dtype=int32)"
      ]
     },
     "execution_count": 214,
     "metadata": {},
     "output_type": "execute_result"
    }
   ],
   "source": [
    "kmeans.labels_"
   ]
  },
  {
   "cell_type": "markdown",
   "metadata": {},
   "source": [
    "# PCA"
   ]
  },
  {
   "cell_type": "code",
   "execution_count": 215,
   "metadata": {},
   "outputs": [],
   "source": [
    "from sklearn.decomposition import PCA"
   ]
  },
  {
   "cell_type": "code",
   "execution_count": 224,
   "metadata": {},
   "outputs": [],
   "source": [
    "pca=PCA()"
   ]
  },
  {
   "cell_type": "code",
   "execution_count": 225,
   "metadata": {},
   "outputs": [
    {
     "data": {
      "text/plain": [
       "array([[-1.06766015, -0.33762743,  0.4062779 , ..., -0.69594849,\n",
       "        -0.03047364,  0.01796347],\n",
       "       [ 1.81631452, -1.43749141, -0.03292159, ..., -1.18556728,\n",
       "        -0.05724185, -0.12305227],\n",
       "       [ 0.96367643, -1.03239646,  0.17319532, ..., -1.08617824,\n",
       "        -0.09172843, -0.19575998],\n",
       "       ...,\n",
       "       [-0.58157659, -0.1055048 ,  0.57974657, ..., -0.24112123,\n",
       "        -0.03008483,  0.03965795],\n",
       "       [-0.72196774,  0.39189345, -0.46251473, ...,  0.36616209,\n",
       "         0.07591285,  0.01964575],\n",
       "       [-1.04895592,  0.71502481, -0.67546518, ..., -0.85560375,\n",
       "         0.09778759,  0.03183822]])"
      ]
     },
     "execution_count": 225,
     "metadata": {},
     "output_type": "execute_result"
    }
   ],
   "source": [
    "pca.fit_transform(X_sc)"
   ]
  },
  {
   "cell_type": "code",
   "execution_count": 226,
   "metadata": {},
   "outputs": [],
   "source": [
    "explaned_ratio=pca.explained_variance_ratio_"
   ]
  },
  {
   "cell_type": "code",
   "execution_count": 227,
   "metadata": {},
   "outputs": [
    {
     "data": {
      "text/plain": [
       "[<matplotlib.lines.Line2D at 0x1a323bf250>]"
      ]
     },
     "execution_count": 227,
     "metadata": {},
     "output_type": "execute_result"
    },
    {
     "data": {
      "image/png": "[encoded data removed]",
      "text/plain": [
       "<Figure size 432x288 with 1 Axes>"
      ]
     },
     "metadata": {
      "needs_background": "light"
     },
     "output_type": "display_data"
    }
   ],
   "source": [
    "plt.plot(explaned_ratio)"
   ]
  },
  {
   "cell_type": "code",
   "execution_count": 229,
   "metadata": {},
   "outputs": [],
   "source": [
    "pca=PCA(n_components=6)\n",
    "X_pca=pca.fit_transform(X_sc)"
   ]
  },
  {
   "cell_type": "code",
   "execution_count": 234,
   "metadata": {},
   "outputs": [
    {
     "name": "stdout",
     "output_type": "stream",
     "text": [
      "Logistic: 0.749500 (0.000374)\n",
      "Navie: 0.707909 (0.003570)\n",
      "KNN: 0.717043 (0.002822)\n",
      "DT: 0.661609 (0.000432)\n",
      "RF: 0.653009 (0.005366)\n",
      "BG: 0.671505 (0.004204)\n",
      "ADA: 0.695673 (0.000305)\n",
      "ADAL: 0.748483 (0.000500)\n",
      "St: 0.748440 (0.001349)\n"
     ]
    }
   ],
   "source": [
    "results=[]\n",
    "names = []\n",
    "for name,k in models:\n",
    "    kfold=KFold(shuffle=True,n_splits=3,random_state=0)\n",
    "   \n",
    "    cv_results=cross_val_score(k,X_pca,y,cv=kfold,scoring='roc_auc')\n",
    "    results.append(cv_results)\n",
    "    names.append(name)\n",
    "    print('%s: %f (%f)' % (name,np.mean(cv_results),np.var(cv_results,ddof=1)))"
   ]
  },
  {
   "cell_type": "code",
   "execution_count": 236,
   "metadata": {},
   "outputs": [],
   "source": [
    "df3=pd.read_csv('indian_liver.csv')"
   ]
  },
  {
   "cell_type": "code",
   "execution_count": 238,
   "metadata": {},
   "outputs": [
    {
     "data": {
      "image/png": "[encoded data removed]",
      "text/plain": [
       "<Figure size 432x288 with 1 Axes>"
      ]
     },
     "metadata": {
      "needs_background": "light"
     },
     "output_type": "display_data"
    }
   ],
   "source": [
    "sns.countplot(df3['gender'],hue=df3['class'])\n",
    "plt.savefig('EDA')"
   ]
  },
  {
   "cell_type": "code",
   "execution_count": null,
   "metadata": {},
   "outputs": [],
   "source": []
  }
 ],
 "metadata": {
  "kernelspec": {
   "display_name": "Python 3",
   "language": "python",
   "name": "python3"
  },
  "language_info": {
   "codemirror_mode": {
    "name": "ipython",
    "version": 3
   },
   "file_extension": ".py",
   "mimetype": "text/x-python",
   "name": "python",
   "nbconvert_exporter": "python",
   "pygments_lexer": "ipython3",
   "version": "3.7.5"
  }
 },
 "nbformat": 4,
 "nbformat_minor": 2
}
